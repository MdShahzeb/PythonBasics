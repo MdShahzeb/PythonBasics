{
 "cells": [
  {
   "cell_type": "markdown",
   "id": "170ba7b5",
   "metadata": {},
   "source": [
    "### 1. In the below elements which of them are values or an expression? eg:- values can be integer or string and expressions will be mathematical operators.\n",
    "* \n",
    ".'hello'\n",
    "\n",
    ".-87.8\n",
    "\n",
    ".- \n",
    "\n",
    "./ \n",
    "\n",
    ".+\t\n",
    "\n",
    ".6 \n"
   ]
  },
  {
   "cell_type": "markdown",
   "id": "0fd8269a",
   "metadata": {},
   "source": [
    "### ANS\n",
    "'hello',-87.8,6 are values\n",
    "\n",
    "and\n",
    "\n",
    "-,+,/ are expressions"
   ]
  },
  {
   "cell_type": "markdown",
   "id": "c1d79af4",
   "metadata": {},
   "source": [
    "### 2. What is the difference between string and variable?"
   ]
  },
  {
   "cell_type": "markdown",
   "id": "eb772d62",
   "metadata": {},
   "source": [
    "### ANS\n",
    "String are text value  and variable is like a box  used for storing values or say used for memory allocation"
   ]
  },
  {
   "cell_type": "markdown",
   "id": "1b94e592",
   "metadata": {},
   "source": [
    "### 3. Describe three different data types."
   ]
  },
  {
   "cell_type": "markdown",
   "id": "f6706606",
   "metadata": {},
   "source": [
    "### ANS\n",
    "INT:A positive or negative whole number without decimel eg. 10,11 etc\n",
    "\n",
    "String:A text value enclosed between two single or double quotes\n",
    "\n",
    "float: A positve or negative whole number with decimel points \n",
    "\n"
   ]
  },
  {
   "cell_type": "markdown",
   "id": "fb2cb3b9",
   "metadata": {},
   "source": [
    "### 4. What is an expression made up of? What do all expressions do?"
   ]
  },
  {
   "cell_type": "markdown",
   "id": "0306314f",
   "metadata": {},
   "source": [
    "### ANS\n",
    "Expression is combination of variables and operator .expression perform operation based on the operator and gives values in single variable "
   ]
  },
  {
   "cell_type": "markdown",
   "id": "dc139a3b",
   "metadata": {},
   "source": [
    "### 5. This assignment statements, like spam = 10. What is the difference between an expression and a statement?"
   ]
  },
  {
   "cell_type": "markdown",
   "id": "550e5259",
   "metadata": {},
   "source": [
    "### ANS\n",
    "expression perform operation based on the operator and assignment assign(stores) the values in variable\n",
    "\n",
    "like the value of spam is now 10"
   ]
  },
  {
   "cell_type": "markdown",
   "id": "fc5f59f1",
   "metadata": {},
   "source": [
    "### 6. After running the following code, what does the variable bacon contain?\n",
    "bacon = 22\n",
    "\n",
    "bacon + 1\n"
   ]
  },
  {
   "cell_type": "markdown",
   "id": "3737fec4",
   "metadata": {},
   "source": [
    "### ANS\n",
    "bacon=22\n",
    "because it is not reassigned"
   ]
  },
  {
   "cell_type": "markdown",
   "id": "47bd65f0",
   "metadata": {},
   "source": [
    "### 7. What should the values of the following two terms be?\n",
    "'spam' + 'spamspam'\n",
    "\n",
    "'spam' * 3\n"
   ]
  },
  {
   "cell_type": "markdown",
   "id": "59129cb9",
   "metadata": {},
   "source": [
    "### ANS\n",
    "it will be same 'spamspamspam'"
   ]
  },
  {
   "cell_type": "markdown",
   "id": "1054476a",
   "metadata": {},
   "source": [
    "### 8. Why is eggs a valid variable name while 100 is invalid?"
   ]
  },
  {
   "cell_type": "markdown",
   "id": "354c8972",
   "metadata": {},
   "source": [
    "### ANS\n",
    "variable name can not start with the number "
   ]
  },
  {
   "cell_type": "markdown",
   "id": "7f64de6b",
   "metadata": {},
   "source": [
    "### 9. What three functions can be used to get the integer, floating-point number, or string version of a value?"
   ]
  },
  {
   "cell_type": "markdown",
   "id": "25692b36",
   "metadata": {},
   "source": [
    "### ANS\n",
    "\n"
   ]
  },
  {
   "cell_type": "code",
   "execution_count": 9,
   "id": "6e35e1a2",
   "metadata": {},
   "outputs": [
    {
     "data": {
      "text/plain": [
       "(10, 10.0, '10')"
      ]
     },
     "execution_count": 9,
     "metadata": {},
     "output_type": "execute_result"
    }
   ],
   "source": [
    "a=10.6\n",
    "b=int(a)\n",
    "c=float(b)\n",
    "d=str(b)\n",
    "b,c,d"
   ]
  },
  {
   "cell_type": "markdown",
   "id": "e8354c56",
   "metadata": {},
   "source": [
    "### 10. Why does this expression cause an error? How can you fix it?\n",
    "'I have eaten ' + 99 + ' burritos.'\n"
   ]
  },
  {
   "cell_type": "markdown",
   "id": "03126148",
   "metadata": {},
   "source": [
    "### Ans\n",
    "Because they are not the same data type \n",
    "\n",
    "to fix it datacasting int to str:\n",
    "\n",
    "'I have eaten ' + '99' + ' burritos.'\n",
    "\n"
   ]
  },
  {
   "cell_type": "code",
   "execution_count": null,
   "id": "64d62754",
   "metadata": {},
   "outputs": [],
   "source": []
  }
 ],
 "metadata": {
  "kernelspec": {
   "display_name": "Python 3",
   "language": "python",
   "name": "python3"
  },
  "language_info": {
   "codemirror_mode": {
    "name": "ipython",
    "version": 3
   },
   "file_extension": ".py",
   "mimetype": "text/x-python",
   "name": "python",
   "nbconvert_exporter": "python",
   "pygments_lexer": "ipython3",
   "version": "3.8.8"
  }
 },
 "nbformat": 4,
 "nbformat_minor": 5
}
